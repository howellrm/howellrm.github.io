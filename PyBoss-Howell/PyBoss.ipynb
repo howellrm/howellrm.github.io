{
 "cells": [
  {
   "cell_type": "markdown",
   "metadata": {},
   "source": [
    "<h2>PyBoss Instructions</h2>\n",
    "\n",
    "\n",
    "In this challenge, you get to be the boss. You oversee hundreds of employees across the country developing Tuna 2.0, a world-changing snack food based on canned tuna fish. Alas, being the boss isn't all fun, games, and self-adulation. The company recently decided to purchase a new HR system, and unfortunately for you, the new system requires employee records be stored completely differently.\n",
    "\n",
    "Your task is to help bridge the gap by creating a Python script able to convert your employee records to the required format. Your script will need to do the following:\n",
    "\n",
    "<ul>\n",
    "<li>Import the employee_data1.csv and employee_data2.csv files, which currently holds employee records.</li>\n",
    "<li>Then convert and export the data to use the following format instead:\n",
    "214,Sarah,Simpson,12/04/1985,***-**-8166,FL</li>\n",
    "<li>In summary, the required conversions are as follows:</li>\n",
    "    <ul>\n",
    "        <li>The Name column should be split into separate First Name and Last Name columns.</li>\n",
    "        <li>The DOB data should be re-written into DD/MM/YYYY format.</li>\n",
    "        <li>The SSN data should be re-written such that the first five numbers are hidden from view.</li>\n",
    "        <li>The State data should be re-written as simple two-letter abbreviations.</li>\n",
    "    </ul>\n",
    "    \n",
    "    \n",
    "<li>You may find this link to be helpful—Python Dictionary for State Abbreviations.</li>\n",
    "\n",
    "\n",
    "</ul>"
   ]
  },
  {
   "cell_type": "code",
   "execution_count": 1,
   "metadata": {
    "collapsed": true
   },
   "outputs": [],
   "source": [
    "import os\n",
    "import csv \n",
    "from pandas import pandas as pd"
   ]
  },
  {
   "cell_type": "code",
   "execution_count": 2,
   "metadata": {
    "collapsed": true
   },
   "outputs": [],
   "source": [
    "#choose 1 or 2\n",
    "file_num = 2\n",
    "\n",
    "#creates file path as file\n",
    "#file = os.path.join('employee_data1.csv')\n",
    "file = os.path.join('employee_data2.csv')\n",
    "#file = os.path.join(\"raw_data\", input(\"Please input the entire file name: \"))"
   ]
  },
  {
   "cell_type": "code",
   "execution_count": 3,
   "metadata": {
    "collapsed": true
   },
   "outputs": [],
   "source": [
    "# state abbr dictionary that was provided\n",
    "us_state_abbrev = {\n",
    "    'Alabama': 'AL',\n",
    "    'Alaska': 'AK',\n",
    "    'Arizona': 'AZ',\n",
    "    'Arkansas': 'AR',\n",
    "    'California': 'CA',\n",
    "    'Colorado': 'CO',\n",
    "    'Connecticut': 'CT',\n",
    "    'Delaware': 'DE',\n",
    "    'Florida': 'FL',\n",
    "    'Georgia': 'GA',\n",
    "    'Hawaii': 'HI',\n",
    "    'Idaho': 'ID',\n",
    "    'Illinois': 'IL',\n",
    "    'Indiana': 'IN',\n",
    "    'Iowa': 'IA',\n",
    "    'Kansas': 'KS',\n",
    "    'Kentucky': 'KY',\n",
    "    'Louisiana': 'LA',\n",
    "    'Maine': 'ME',\n",
    "    'Maryland': 'MD',\n",
    "    'Massachusetts': 'MA',\n",
    "    'Michigan': 'MI',\n",
    "    'Minnesota': 'MN',\n",
    "    'Mississippi': 'MS',\n",
    "    'Missouri': 'MO',\n",
    "    'Montana': 'MT',\n",
    "    'Nebraska': 'NE',\n",
    "    'Nevada': 'NV',\n",
    "    'New Hampshire': 'NH',\n",
    "    'New Jersey': 'NJ',\n",
    "    'New Mexico': 'NM',\n",
    "    'New York': 'NY',\n",
    "    'North Carolina': 'NC',\n",
    "    'North Dakota': 'ND',\n",
    "    'Ohio': 'OH',\n",
    "    'Oklahoma': 'OK',\n",
    "    'Oregon': 'OR',\n",
    "    'Pennsylvania': 'PA',\n",
    "    'Rhode Island': 'RI',\n",
    "    'South Carolina': 'SC',\n",
    "    'South Dakota': 'SD',\n",
    "    'Tennessee': 'TN',\n",
    "    'Texas': 'TX',\n",
    "    'Utah': 'UT',\n",
    "    'Vermont': 'VT',\n",
    "    'Virginia': 'VA',\n",
    "    'Washington': 'WA',\n",
    "    'West Virginia': 'WV',\n",
    "    'Wisconsin': 'WI',\n",
    "    'Wyoming': 'WY',\n",
    "}"
   ]
  },
  {
   "cell_type": "code",
   "execution_count": 4,
   "metadata": {
    "collapsed": true
   },
   "outputs": [],
   "source": [
    "# empty lists for parsed data\n",
    "emp_id = []\n",
    "first_name = []\n",
    "last_name = []\n",
    "dob =[]\n",
    "ssn = []\n",
    "state = []\n"
   ]
  },
  {
   "cell_type": "code",
   "execution_count": 5,
   "metadata": {
    "collapsed": true
   },
   "outputs": [],
   "source": [
    "# opens csv file and reads in as dictionary\n",
    "# no need to skip header row because it's the same as the dictonary key\n",
    "with open(file, 'r') as csvfile:  \n",
    "    reader = csv.DictReader(csvfile)\n",
    "    # appends information to empty lists after being altered\n",
    "    for row in reader:\n",
    "        emp_id.append(row['Emp ID'])\n",
    "        first_name.append(row['Name'].split(\" \")[0])\n",
    "        last_name.append(row['Name'].split(\" \")[1])\n",
    "        dob.append(row['DOB'].split('-')[1] + '/' + row['DOB'].split('-')[2] + '/' + row['DOB'].split('-')[0])\n",
    "        ssn.append('***-**-' + row['SSN'].split('-')[2])\n",
    "        state.append(us_state_abbrev[row['State']])"
   ]
  },
  {
   "cell_type": "code",
   "execution_count": 6,
   "metadata": {
    "collapsed": true
   },
   "outputs": [],
   "source": [
    "# zips lists together\n",
    "new_data = zip(emp_id, first_name, last_name, dob, ssn, state)"
   ]
  },
  {
   "cell_type": "code",
   "execution_count": 7,
   "metadata": {
    "collapsed": true
   },
   "outputs": [],
   "source": [
    "# names output file as emp_data_clean\n",
    "output_file = os.path.join('emp_data_clean' + str(file_num) + '.csv')"
   ]
  },
  {
   "cell_type": "code",
   "execution_count": 8,
   "metadata": {
    "collapsed": true
   },
   "outputs": [],
   "source": [
    "# Writes the results to a new CSV file\n",
    "with open(output_file, 'w') as csvwrite:\n",
    "    clean_file = csv.writer(csvwrite, delimiter = \",\")\n",
    "    clean_file.writerow(['Emp ID', 'First Name', 'Last Name', 'DOB', 'SSN', 'State'])\n",
    "    clean_file.writerows(new_data)\n",
    "\n",
    "#print(\"Do you have another file? Y or N \")    "
   ]
  }
 ],
 "metadata": {
  "kernelspec": {
   "display_name": "Python 3",
   "language": "python",
   "name": "python3"
  },
  "language_info": {
   "codemirror_mode": {
    "name": "ipython",
    "version": 3
   },
   "file_extension": ".py",
   "mimetype": "text/x-python",
   "name": "python",
   "nbconvert_exporter": "python",
   "pygments_lexer": "ipython3",
   "version": "3.6.3"
  }
 },
 "nbformat": 4,
 "nbformat_minor": 2
}
