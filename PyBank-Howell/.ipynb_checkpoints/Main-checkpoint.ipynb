{
 "cells": [
  {
   "cell_type": "code",
   "execution_count": 129,
   "metadata": {
    "collapsed": true
   },
   "outputs": [],
   "source": [
    "# import dependencies \n",
    "import pandas as pd\n",
    "import numpy as np\n",
    "import sys"
   ]
  },
  {
   "cell_type": "code",
   "execution_count": 136,
   "metadata": {},
   "outputs": [],
   "source": [
    "# bring in the csv file\n",
    "budget_one = pd.read_csv(\"budget_data_1.csv\" )\n",
    "budget_two = pd.read_csv(\"budget_data_2.csv\")\n",
    "\n",
    "#print(budget_two.index)\n",
    "\n",
    "# budgets = ['budget_data_1.csv', 'budget_data_2.csv']\n",
    "\n",
    "#budgets_df = []\n",
    "\n",
    "# for f in budgets:\n",
    "#     print(f)\n",
    "#     budgets_df = pd.read_csv(f, header=None)\n",
    "#     budgets_df.append(budgets_df)\n",
    "    \n",
    "# budgets_df\n",
    "\n",
    "#budgets = globb('budget*.csv')\n",
    "#budgets_df = [pd.read_csv(f) for f in budgets]"
   ]
  },
  {
   "cell_type": "code",
   "execution_count": 131,
   "metadata": {},
   "outputs": [],
   "source": [
    "#order = ['Jan', 'Feb', 'Mar', 'Apr', 'May', 'Jun', 'Jul', 'Aug', 'Sep', 'Oct', 'Nov', 'Dec']\n",
    "#budgets__ord = budgets_df.reindex(order)\n",
    "#print(budgets__ord)"
   ]
  },
  {
   "cell_type": "code",
   "execution_count": 132,
   "metadata": {},
   "outputs": [],
   "source": [
    "#budget_df = pd.read_csv(budget_one)\n",
    "#budget_df"
   ]
  },
  {
   "cell_type": "code",
   "execution_count": 133,
   "metadata": {},
   "outputs": [],
   "source": [
    "#budgets_df.columns\n",
    "#budgets_df.rename(columns = {'0': 'Date', '1': \"Revenue\"}, inplace=True)\n",
    "#budgets_df.columns"
   ]
  },
  {
   "cell_type": "code",
   "execution_count": null,
   "metadata": {},
   "outputs": [],
   "source": [
    "mon"
   ]
  },
  {
   "cell_type": "code",
   "execution_count": 125,
   "metadata": {},
   "outputs": [
    {
     "data": {
      "text/plain": [
       "18971412"
      ]
     },
     "execution_count": 125,
     "metadata": {},
     "output_type": "execute_result"
    }
   ],
   "source": [
    "total_revenue1 = budgets_df[\"Revenue\"].sum()\n",
    "total_revenue1"
   ]
  },
  {
   "cell_type": "code",
   "execution_count": 126,
   "metadata": {},
   "outputs": [
    {
     "data": {
      "text/plain": [
       "462717.3658536585"
      ]
     },
     "execution_count": 126,
     "metadata": {},
     "output_type": "execute_result"
    }
   ],
   "source": [
    "avg_revenue1 = budgets_df[\"Revenue\"].mean()\n",
    "avg_revenue1"
   ]
  },
  {
   "cell_type": "code",
   "execution_count": 127,
   "metadata": {},
   "outputs": [
    {
     "data": {
      "text/plain": [
       "1195111"
      ]
     },
     "execution_count": 127,
     "metadata": {},
     "output_type": "execute_result"
    }
   ],
   "source": [
    "max_revenue1 = budgets_df[\"Revenue\"].max()\n",
    "max_revenue1"
   ]
  },
  {
   "cell_type": "code",
   "execution_count": 77,
   "metadata": {},
   "outputs": [
    {
     "data": {
      "text/plain": [
       "-1172384"
      ]
     },
     "execution_count": 77,
     "metadata": {},
     "output_type": "execute_result"
    }
   ],
   "source": [
    "min_revenue1 = budgets_df[\"Revenue\"].min()\n",
    "min_revenue1"
   ]
  },
  {
   "cell_type": "code",
   "execution_count": 128,
   "metadata": {},
   "outputs": [
    {
     "data": {
      "text/plain": [
       "'Sep-15'"
      ]
     },
     "execution_count": 128,
     "metadata": {},
     "output_type": "execute_result"
    }
   ],
   "source": [
    "date1 = budgets_df.loc[budgets_df[\"Revenue\"] == max_revneue1, \"Date\"]\n",
    "max_date1 = date1.iloc[0]\n",
    "max_date1"
   ]
  },
  {
   "cell_type": "code",
   "execution_count": 79,
   "metadata": {},
   "outputs": [
    {
     "data": {
      "text/plain": [
       "'Sep-15'"
      ]
     },
     "execution_count": 79,
     "metadata": {},
     "output_type": "execute_result"
    }
   ],
   "source": [
    "min_date1 = budgets_df.loc[budgets_df[\"Revenue\"] == min_revenue1, \"Date\"]\n",
    "min_date1 = date1.iloc[0]\n",
    "min_date1\n",
    "\n",
    "min_date1 = budgets_df.loc[budgets_df[\"Revenue\"] == min_revenue1, \"Date\"]\n",
    "min_date1 = date1.iloc[0]\n",
    "min_date1"
   ]
  },
  {
   "cell_type": "code",
   "execution_count": 108,
   "metadata": {},
   "outputs": [
    {
     "name": "stdout",
     "output_type": "stream",
     "text": [
      " Financial Analysis \n",
      " ---------------------------- \n",
      " Total Months: 41 \n",
      " Total Revenue: 18971412 \n",
      " Average Revenue Change: 462717.3658536585 \n",
      " Greatest Increase in Revenue: Sep-15 1195111 \n",
      " Greatest Decrease in Revenue: Sep-15 -1172384\n"
     ]
    }
   ],
   "source": [
    "print(f\" Financial Analysis \\n ---------------------------- \\n Total Months: {months} \\n Total Revenue: {total_revenue} \\n Average Revenue Change: {avg_revenue} \\n Greatest Increase in Revenue: {max_date} {max_revenue} \\n Greatest Decrease in Revenue: {min_date:} {min_revenue}\")"
   ]
  },
  {
   "cell_type": "code",
   "execution_count": 103,
   "metadata": {},
   "outputs": [],
   "source": []
  },
  {
   "cell_type": "code",
   "execution_count": null,
   "metadata": {
    "collapsed": true
   },
   "outputs": [],
   "source": []
  }
 ],
 "metadata": {
  "kernelspec": {
   "display_name": "Python 3",
   "language": "python",
   "name": "python3"
  },
  "language_info": {
   "codemirror_mode": {
    "name": "ipython",
    "version": 3
   },
   "file_extension": ".py",
   "mimetype": "text/x-python",
   "name": "python",
   "nbconvert_exporter": "python",
   "pygments_lexer": "ipython3",
   "version": "3.6.3"
  }
 },
 "nbformat": 4,
 "nbformat_minor": 2
}
