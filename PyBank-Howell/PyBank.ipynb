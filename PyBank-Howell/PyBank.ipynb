{
 "cells": [
  {
   "cell_type": "code",
   "execution_count": 1,
   "metadata": {
    "collapsed": true
   },
   "outputs": [],
   "source": [
    "# import dependencies \n",
    "from pandas import pandas\n",
    "import os\n",
    "import csv\n",
    "import sys"
   ]
  },
  {
   "cell_type": "code",
   "execution_count": 2,
   "metadata": {
    "collapsed": true
   },
   "outputs": [],
   "source": [
    "#Read in files with names budget_one and budget_two\n",
    "budget_one_path = os.path.join('budget_data_1.csv')\n",
    "budget_two_path = os.path.join('budget_data_2.csv')\n",
    "\n",
    "df1 = pandas.read_csv(budget_one_path)\n",
    "df2 = pandas.read_csv(budget_two_path)\n",
    "\n",
    "#print (df1)\n",
    "#print (df2)\n"
   ]
  },
  {
   "cell_type": "code",
   "execution_count": 3,
   "metadata": {},
   "outputs": [
    {
     "data": {
      "text/plain": [
       "Index(['Date', 'Revenue'], dtype='object')"
      ]
     },
     "execution_count": 3,
     "metadata": {},
     "output_type": "execute_result"
    }
   ],
   "source": [
    "#Use column attribut for two files\n",
    "df1.columns\n",
    "df2.columns\n",
    "#print (df1.columns, df2.columns)"
   ]
  },
  {
   "cell_type": "code",
   "execution_count": 6,
   "metadata": {},
   "outputs": [
    {
     "name": "stdout",
     "output_type": "stream",
     "text": [
      "41\n",
      "86\n"
     ]
    }
   ],
   "source": [
    "#The total number of months included in the datasets one and two\n",
    "months1 = df1[\"Date\"].count()\n",
    "months2 = df2[\"Date\"].count()\n",
    "print (months1)\n",
    "print (months2)"
   ]
  },
  {
   "cell_type": "code",
   "execution_count": 8,
   "metadata": {},
   "outputs": [
    {
     "name": "stdout",
     "output_type": "stream",
     "text": [
      "18971412\n",
      "36973911\n"
     ]
    }
   ],
   "source": [
    "#The total amount of revenue gained over both periods one and two\n",
    "total_rev1 = df1[\"Revenue\"].sum()\n",
    "total_rev2 = df2[\"Revenue\"].sum()\n",
    "print (total_rev1)\n",
    "print (total_rev2)"
   ]
  },
  {
   "cell_type": "code",
   "execution_count": 9,
   "metadata": {},
   "outputs": [
    {
     "name": "stdout",
     "output_type": "stream",
     "text": [
      "462717.3658536585\n",
      "429929.1976744186\n"
     ]
    }
   ],
   "source": [
    "#The average change in revenue between months over both periods one and two\n",
    "avg_rev1 = df1[\"Revenue\"].mean()\n",
    "avg_rev2 = df2[\"Revenue\"].mean()\n",
    "print(avg_rev1)\n",
    "print(avg_rev2)"
   ]
  },
  {
   "cell_type": "code",
   "execution_count": 10,
   "metadata": {},
   "outputs": [
    {
     "name": "stdout",
     "output_type": "stream",
     "text": [
      "1195111\n",
      "1141606\n"
     ]
    }
   ],
   "source": [
    "#The greatest decrease in revenue (date and amount) over tboth periods one and twod\n",
    "max_rev1 = df1[\"Revenue\"].max()\n",
    "max_rev2 = df2[\"Revenue\"].max()\n",
    "print(max_rev1)\n",
    "print(max_rev2)"
   ]
  },
  {
   "cell_type": "code",
   "execution_count": 11,
   "metadata": {},
   "outputs": [
    {
     "name": "stdout",
     "output_type": "stream",
     "text": [
      "Sep-15\n",
      "Mar-2012\n"
     ]
    }
   ],
   "source": [
    "#locates the date that corresponds to the max revenue for budget one and two respectively\n",
    "date1 = df1.loc[df1[\"Revenue\"] == max_rev1, \"Date\"]\n",
    "max_date1 = date1.iloc[0]\n",
    "print(max_date1)\n",
    "\n",
    "date2 = df2.loc[df2[\"Revenue\"] == max_rev2, \"Date\"]\n",
    "max_date2 = date2.iloc[0]\n",
    "print(max_date2)"
   ]
  },
  {
   "cell_type": "code",
   "execution_count": 12,
   "metadata": {},
   "outputs": [
    {
     "name": "stdout",
     "output_type": "stream",
     "text": [
      "-1172384\n",
      "-1063151\n"
     ]
    }
   ],
   "source": [
    "#The greatest increase in revenue (date and amount) over both periods one and two\n",
    "min_rev1 = df1[\"Revenue\"].min()\n",
    "min_rev2 = df2[\"Revenue\"].min()\n",
    "print(min_rev1)\n",
    "print(min_rev2)"
   ]
  },
  {
   "cell_type": "code",
   "execution_count": 13,
   "metadata": {},
   "outputs": [
    {
     "name": "stdout",
     "output_type": "stream",
     "text": [
      "Sep-15\n",
      "Mar-2012\n"
     ]
    }
   ],
   "source": [
    "#locates the date that corresponds to the min revenue for budget one and two respectively\n",
    "min_date1 = df1.loc[df1[\"Revenue\"] == min_rev1, \"Date\"]\n",
    "min_date1_loc = date1.iloc[0]\n",
    "print(min_date1_loc)\n",
    "\n",
    "min_date2 = df2.loc[df2[\"Revenue\"] == min_rev2, \"Date\"]\n",
    "min_date2_loc = date2.iloc[0]\n",
    "print(min_date2_loc)"
   ]
  },
  {
   "cell_type": "code",
   "execution_count": 14,
   "metadata": {},
   "outputs": [
    {
     "name": "stdout",
     "output_type": "stream",
     "text": [
      "Financial Analysis for Data Set 1\n",
      " ---------------------------- \n",
      "\n",
      " Total Months: 41\n",
      " Total Revenue: 18971412\n",
      " Average Revenue Change: 462717.3658536585\n",
      " Greatest Increase in Revenue: Sep-15 1195111\n",
      " Greatest Decrease in Revenue: Sep-15 -1172384\n",
      " \n",
      " \n",
      "Financial Analysis for Data Set 2\n",
      " ---------------------------- \n",
      "\n",
      " Total Months: 86\n",
      " Total Revenue: 36973911\n",
      " Average Revenue Change: 429929.1976744186\n",
      " Greatest Increase in Revenue: Mar-2012 1141606\n",
      " Greatest Decrease in Revenue: Mar-2012 -1063151\n"
     ]
    }
   ],
   "source": [
    "#print statements in terminal\n",
    "print(\"Financial Analysis for Data Set 1\\n ---------------------------- \\n\")\n",
    "print(f\" Total Months: {months1}\\n Total Revenue: {total_rev1}\\n Average Revenue Change: {avg_rev1}\\n Greatest Increase in Revenue: {max_date1} {max_rev1}\\n Greatest Decrease in Revenue: {min_date1_loc} {min_rev1}\")\n",
    "\n",
    "print(\" \")\n",
    "print(\" \")\n",
    "\n",
    "print(\"Financial Analysis for Data Set 2\\n ---------------------------- \\n\")\n",
    "print(f\" Total Months: {months2}\\n Total Revenue: {total_rev2}\\n Average Revenue Change: {avg_rev2}\\n Greatest Increase in Revenue: {max_date2} {max_rev2}\\n Greatest Decrease in Revenue: {min_date2_loc} {min_rev2}\")\n",
    "\n"
   ]
  },
  {
   "cell_type": "code",
   "execution_count": 17,
   "metadata": {
    "collapsed": true
   },
   "outputs": [],
   "source": [
    "#print statements in seperate text file within the same directory\n",
    "analysis = sys.stdout\n",
    "sys.stdout = open('financial-analysis.txt', 'w')\n",
    "print(\"Financial Analysis for Data Set 1\\n ---------------------------- \\n\")\n",
    "print(f\" Total Months: {months1}\\n Total Revenue: {total_rev1}\\n Average Revenue Change: {avg_rev1}\\n Greatest Increase in Revenue: {max_date1} {max_rev1}\\n Greatest Decrease in Revenue: {min_date1_loc} {min_rev1}\")\n",
    "\n",
    "print(\" \")\n",
    "print(\" \")\n",
    "\n",
    "print(\"Financial Analysis for Data Set 2\\n ---------------------------- \\n\")\n",
    "print(f\" Total Months: {months2}\\n Total Revenue: {total_rev2}\\n Average Revenue Change: {avg_rev2}\\n Greatest Increase in Revenue: {max_date2} {max_rev2}\\n Greatest Decrease in Revenue: {min_date2_loc} {min_rev2}\")\n",
    "sys.stdout.close() \n",
    "sys.stdout = analysis "
   ]
  }
 ],
 "metadata": {
  "kernelspec": {
   "display_name": "Python 3",
   "language": "python",
   "name": "python3"
  },
  "language_info": {
   "codemirror_mode": {
    "name": "ipython",
    "version": 3
   },
   "file_extension": ".py",
   "mimetype": "text/x-python",
   "name": "python",
   "nbconvert_exporter": "python",
   "pygments_lexer": "ipython3",
   "version": "3.6.3"
  }
 },
 "nbformat": 4,
 "nbformat_minor": 2
}
